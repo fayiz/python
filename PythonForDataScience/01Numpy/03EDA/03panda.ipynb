{
 "cells": [
  {
   "cell_type": "code",
   "execution_count": 46,
   "metadata": {},
   "outputs": [],
   "source": [
    "import numpy as np\n",
    "import pandas as pd\n",
    "df = pd.read_csv('https://query.data.world/s/Hfu_PsEuD1Z_yJHmGaxWTxvkz7W_b0')\n"
   ]
  },
  {
   "cell_type": "code",
   "execution_count": 47,
   "metadata": {},
   "outputs": [
    {
     "name": "stdout",
     "output_type": "stream",
     "text": [
      "Ord_id                   0\n",
      "Prod_id                  0\n",
      "Ship_id                  0\n",
      "Cust_id                  0\n",
      "Sales                   20\n",
      "Discount                55\n",
      "Order_Quantity          55\n",
      "Profit                  55\n",
      "Shipping_Cost           55\n",
      "Product_Base_Margin    109\n",
      "dtype: int64 2\n"
     ]
    }
   ],
   "source": [
    "#Print out the number of missing values in each column in the given dataframe.\n",
    "print(round((df.isnull().sum())), 2)#Round off percentage values to 2 decimial places."
   ]
  },
  {
   "cell_type": "code",
   "execution_count": 48,
   "metadata": {},
   "outputs": [
    {
     "name": "stdout",
     "output_type": "stream",
     "text": [
      "8399\n"
     ]
    }
   ],
   "source": [
    "#print length of dataframe\n",
    "print(len(df.index))"
   ]
  },
  {
   "cell_type": "code",
   "execution_count": 49,
   "metadata": {},
   "outputs": [
    {
     "name": "stdout",
     "output_type": "stream",
     "text": [
      "Ord_id                 0.00\n",
      "Prod_id                0.00\n",
      "Ship_id                0.00\n",
      "Cust_id                0.00\n",
      "Sales                  0.24\n",
      "Discount               0.65\n",
      "Order_Quantity         0.65\n",
      "Profit                 0.65\n",
      "Shipping_Cost          0.65\n",
      "Product_Base_Margin    1.30\n",
      "dtype: float64\n"
     ]
    }
   ],
   "source": [
    "#Find out the percentage of missing values in each column in the given dataset.\n",
    "print(round((df.isnull().sum() / len(df.index) * 100), 2))"
   ]
  },
  {
   "cell_type": "code",
   "execution_count": 50,
   "metadata": {},
   "outputs": [
    {
     "name": "stdout",
     "output_type": "stream",
     "text": [
      "Ord_id                 0.00\n",
      "Prod_id                0.00\n",
      "Ship_id                0.00\n",
      "Cust_id                0.00\n",
      "Sales                  0.00\n",
      "Discount               0.42\n",
      "Order_Quantity         0.42\n",
      "Profit                 0.42\n",
      "Shipping_Cost          0.42\n",
      "Product_Base_Margin    1.06\n",
      "dtype: float64\n"
     ]
    }
   ],
   "source": [
    "#Remove the missing values from the rows having greater than 5 missing values and then print the percentage of missing values in each column.\n",
    "df = df.dropna(thresh=5)\n",
    "print(round((df.isnull().sum() / len(df.index) * 100), 2))"
   ]
  },
  {
   "cell_type": "code",
   "execution_count": 51,
   "metadata": {},
   "outputs": [
    {
     "name": "stdout",
     "output_type": "stream",
     "text": [
      "Ord_id                 0.00\n",
      "Prod_id                0.00\n",
      "Ship_id                0.00\n",
      "Cust_id                0.00\n",
      "Sales                  0.00\n",
      "Discount               0.42\n",
      "Order_Quantity         0.42\n",
      "Profit                 0.42\n",
      "Shipping_Cost          0.42\n",
      "Product_Base_Margin    0.00\n",
      "dtype: float64\n"
     ]
    }
   ],
   "source": [
    "#Impute the mean value at all the missing values of the column 'Product_Base_Margin' \n",
    "#and then print the percentage of missing values in each column.\n",
    "#df = pd.read_csv('https://query.data.world/s/Hfu_PsEuD1Z_yJHmGaxWTxvkz7W_b0')\n",
    "df.loc[np.isnan(df['Product_Base_Margin']), ['Product_Base_Margin']] = df['Product_Base_Margin'].mean()\n",
    "print(round((df.isnull().sum() / len(df.index) * 100), 2))\n"
   ]
  },
  {
   "cell_type": "code",
   "execution_count": null,
   "metadata": {},
   "outputs": [],
   "source": []
  },
  {
   "cell_type": "code",
   "execution_count": null,
   "metadata": {},
   "outputs": [],
   "source": []
  }
 ],
 "metadata": {
  "kernelspec": {
   "display_name": "Python 3",
   "language": "python",
   "name": "python3"
  },
  "language_info": {
   "codemirror_mode": {
    "name": "ipython",
    "version": 3
   },
   "file_extension": ".py",
   "mimetype": "text/x-python",
   "name": "python",
   "nbconvert_exporter": "python",
   "pygments_lexer": "ipython3",
   "version": "3.7.1"
  }
 },
 "nbformat": 4,
 "nbformat_minor": 2
}
